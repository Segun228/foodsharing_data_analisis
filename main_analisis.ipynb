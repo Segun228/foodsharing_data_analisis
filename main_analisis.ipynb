{
 "cells": [
  {
   "cell_type": "code",
   "execution_count": 64,
   "id": "7fc30cfb",
   "metadata": {},
   "outputs": [],
   "source": [
    "import numpy as np\n",
    "import pandas as pd\n",
    "import matplotlib.pyplot as plt\n",
    "import seaborn as sns\n",
    "import scipy.stats as stats\n",
    "import sklearn as sk"
   ]
  },
  {
   "cell_type": "code",
   "execution_count": 65,
   "id": "32c6dd6e",
   "metadata": {},
   "outputs": [],
   "source": [
    "from pandas import json_normalize"
   ]
  },
  {
   "cell_type": "code",
   "execution_count": 66,
   "id": "a8ed41e8",
   "metadata": {},
   "outputs": [],
   "source": [
    "import json\n",
    "\n",
    "file_path = 'result.json'\n",
    "\n",
    "\n",
    "with open(file_path, 'r', encoding='utf-8') as f:\n",
    "    data = json.load(f)\n",
    "\n",
    "\n",
    "df = json_normalize(\n",
    "    data, \n",
    "    record_path='text_entities',\n",
    "    meta=['id', 'type', 'date', 'date_unixtime', 'actor', 'actor_id', 'action', 'inviter', 'text'],\n",
    "    record_prefix='entity_',\n",
    "    errors='ignore'\n",
    ")\n"
   ]
  },
  {
   "cell_type": "code",
   "execution_count": 67,
   "id": "5c246a78",
   "metadata": {},
   "outputs": [
    {
     "data": {
      "text/plain": [
       "(18005, 15)"
      ]
     },
     "execution_count": 67,
     "metadata": {},
     "output_type": "execute_result"
    }
   ],
   "source": [
    "df.shape"
   ]
  },
  {
   "cell_type": "code",
   "execution_count": 68,
   "id": "3be6360a",
   "metadata": {},
   "outputs": [],
   "source": [
    "df = df[df['entity_text'].notna() & (df['entity_text'] != '')]"
   ]
  },
  {
   "cell_type": "code",
   "execution_count": 69,
   "id": "d0acebb9",
   "metadata": {},
   "outputs": [],
   "source": [
    "df = df[[\"entity_text\", \"date\", \"text\"]]"
   ]
  },
  {
   "cell_type": "markdown",
   "id": "a559ea23",
   "metadata": {},
   "source": [
    " - сколько спама\n",
    " - сколько объявлений по объявлению\n",
    " - сколько объявлений по забоу\n",
    " - в скольких говорится что забрали\n",
    " - в скольких объявлениях упоминается срок годности\n",
    " - в скольких упоминается корпус"
   ]
  },
  {
   "cell_type": "code",
   "execution_count": 70,
   "id": "00741ae4",
   "metadata": {},
   "outputs": [
    {
     "data": {
      "text/html": [
       "<div>\n",
       "<style scoped>\n",
       "    .dataframe tbody tr th:only-of-type {\n",
       "        vertical-align: middle;\n",
       "    }\n",
       "\n",
       "    .dataframe tbody tr th {\n",
       "        vertical-align: top;\n",
       "    }\n",
       "\n",
       "    .dataframe thead th {\n",
       "        text-align: right;\n",
       "    }\n",
       "</style>\n",
       "<table border=\"1\" class=\"dataframe\">\n",
       "  <thead>\n",
       "    <tr style=\"text-align: right;\">\n",
       "      <th></th>\n",
       "      <th>entity_text</th>\n",
       "      <th>date</th>\n",
       "      <th>text</th>\n",
       "    </tr>\n",
       "  </thead>\n",
       "  <tbody>\n",
       "    <tr>\n",
       "      <th>0</th>\n",
       "      <td>Никто половину арбуза забрать не хочет?</td>\n",
       "      <td>2021-07-28T13:54:41</td>\n",
       "      <td>Никто половину арбуза забрать не хочет?</td>\n",
       "    </tr>\n",
       "    <tr>\n",
       "      <th>1</th>\n",
       "      <td>UPD: забрали</td>\n",
       "      <td>2021-07-28T13:58:50</td>\n",
       "      <td>UPD: забрали</td>\n",
       "    </tr>\n",
       "    <tr>\n",
       "      <th>2</th>\n",
       "      <td>какой корпус?</td>\n",
       "      <td>2021-07-30T16:13:40</td>\n",
       "      <td>какой корпус?</td>\n",
       "    </tr>\n",
       "    <tr>\n",
       "      <th>3</th>\n",
       "      <td>Молодые и красивые, буду рада отдать в добрые ...</td>\n",
       "      <td>2021-08-03T13:29:33</td>\n",
       "      <td>Молодые и красивые, буду рада отдать в добрые ...</td>\n",
       "    </tr>\n",
       "    <tr>\n",
       "      <th>4</th>\n",
       "      <td>1к, уехала, оставила у двери страчателлу и ост...</td>\n",
       "      <td>2021-08-05T17:39:14</td>\n",
       "      <td>1к, уехала, оставила у двери страчателлу и ост...</td>\n",
       "    </tr>\n",
       "    <tr>\n",
       "      <th>...</th>\n",
       "      <td>...</td>\n",
       "      <td>...</td>\n",
       "      <td>...</td>\n",
       "    </tr>\n",
       "    <tr>\n",
       "      <th>18000</th>\n",
       "      <td>сито большое бронь</td>\n",
       "      <td>2025-09-20T09:02:20</td>\n",
       "      <td>сито большое бронь</td>\n",
       "    </tr>\n",
       "    <tr>\n",
       "      <th>18001</th>\n",
       "      <td>сито поменбше бронь</td>\n",
       "      <td>2025-09-20T09:05:58</td>\n",
       "      <td>сито поменбше бронь</td>\n",
       "    </tr>\n",
       "    <tr>\n",
       "      <th>18002</th>\n",
       "      <td>Венчик бронь</td>\n",
       "      <td>2025-09-20T09:08:36</td>\n",
       "      <td>Венчик бронь</td>\n",
       "    </tr>\n",
       "    <tr>\n",
       "      <th>18003</th>\n",
       "      <td>друзья мб кому нибудь нужны банки жалко выкиды...</td>\n",
       "      <td>2025-09-20T09:19:20</td>\n",
       "      <td>друзья мб кому нибудь нужны банки жалко выкиды...</td>\n",
       "    </tr>\n",
       "    <tr>\n",
       "      <th>18004</th>\n",
       "      <td>Миска бронь</td>\n",
       "      <td>2025-09-20T10:51:56</td>\n",
       "      <td>Миска бронь</td>\n",
       "    </tr>\n",
       "  </tbody>\n",
       "</table>\n",
       "<p>17841 rows × 3 columns</p>\n",
       "</div>"
      ],
      "text/plain": [
       "                                             entity_text                 date  \\\n",
       "0                Никто половину арбуза забрать не хочет?  2021-07-28T13:54:41   \n",
       "1                                           UPD: забрали  2021-07-28T13:58:50   \n",
       "2                                          какой корпус?  2021-07-30T16:13:40   \n",
       "3      Молодые и красивые, буду рада отдать в добрые ...  2021-08-03T13:29:33   \n",
       "4      1к, уехала, оставила у двери страчателлу и ост...  2021-08-05T17:39:14   \n",
       "...                                                  ...                  ...   \n",
       "18000                                 сито большое бронь  2025-09-20T09:02:20   \n",
       "18001                                сито поменбше бронь  2025-09-20T09:05:58   \n",
       "18002                                       Венчик бронь  2025-09-20T09:08:36   \n",
       "18003  друзья мб кому нибудь нужны банки жалко выкиды...  2025-09-20T09:19:20   \n",
       "18004                                        Миска бронь  2025-09-20T10:51:56   \n",
       "\n",
       "                                                    text  \n",
       "0                Никто половину арбуза забрать не хочет?  \n",
       "1                                           UPD: забрали  \n",
       "2                                          какой корпус?  \n",
       "3      Молодые и красивые, буду рада отдать в добрые ...  \n",
       "4      1к, уехала, оставила у двери страчателлу и ост...  \n",
       "...                                                  ...  \n",
       "18000                                 сито большое бронь  \n",
       "18001                                сито поменбше бронь  \n",
       "18002                                       Венчик бронь  \n",
       "18003  друзья мб кому нибудь нужны банки жалко выкиды...  \n",
       "18004                                        Миска бронь  \n",
       "\n",
       "[17841 rows x 3 columns]"
      ]
     },
     "execution_count": 70,
     "metadata": {},
     "output_type": "execute_result"
    }
   ],
   "source": [
    "df"
   ]
  },
  {
   "cell_type": "code",
   "execution_count": 71,
   "id": "6e77c53b",
   "metadata": {},
   "outputs": [],
   "source": [
    "df[\"keywords\"] = \"\""
   ]
  },
  {
   "cell_type": "code",
   "execution_count": 72,
   "id": "aea6e068",
   "metadata": {},
   "outputs": [],
   "source": [
    "import re\n",
    "import pandas as pd\n",
    "\n",
    "def clean_message(row):\n",
    "    raw_text = row.get(\"text\", \"\")\n",
    "    if not isinstance(raw_text, str):\n",
    "        raw_text = str(raw_text)\n",
    "\n",
    "    raw_entity = row.get(\"entity_text\", \"\")\n",
    "    if not isinstance(raw_entity, str):\n",
    "        raw_entity = str(raw_entity)\n",
    "\n",
    "\n",
    "    cleaned_text = re.sub(r'[^\\w\\s]', ' ', raw_text).lower().strip()\n",
    "    cleaned_entity = re.sub(r'[^\\w\\s]', ' ', raw_entity).lower().strip()\n",
    "\n",
    "\n",
    "    row[\"text\"] = cleaned_text\n",
    "    row[\"entity_text\"] = cleaned_entity\n",
    "    row[\"keywords\"] = cleaned_text.split()\n",
    "\n",
    "    return row"
   ]
  },
  {
   "cell_type": "code",
   "execution_count": 73,
   "id": "9127ee40",
   "metadata": {},
   "outputs": [],
   "source": [
    "df = df.apply(clean_message, axis=1)"
   ]
  },
  {
   "cell_type": "code",
   "execution_count": 74,
   "id": "5e3cc216",
   "metadata": {},
   "outputs": [
    {
     "data": {
      "text/html": [
       "<div>\n",
       "<style scoped>\n",
       "    .dataframe tbody tr th:only-of-type {\n",
       "        vertical-align: middle;\n",
       "    }\n",
       "\n",
       "    .dataframe tbody tr th {\n",
       "        vertical-align: top;\n",
       "    }\n",
       "\n",
       "    .dataframe thead th {\n",
       "        text-align: right;\n",
       "    }\n",
       "</style>\n",
       "<table border=\"1\" class=\"dataframe\">\n",
       "  <thead>\n",
       "    <tr style=\"text-align: right;\">\n",
       "      <th></th>\n",
       "      <th>entity_text</th>\n",
       "      <th>date</th>\n",
       "      <th>text</th>\n",
       "      <th>keywords</th>\n",
       "    </tr>\n",
       "  </thead>\n",
       "  <tbody>\n",
       "    <tr>\n",
       "      <th>0</th>\n",
       "      <td>никто половину арбуза забрать не хочет</td>\n",
       "      <td>2021-07-28T13:54:41</td>\n",
       "      <td>никто половину арбуза забрать не хочет</td>\n",
       "      <td>[никто, половину, арбуза, забрать, не, хочет]</td>\n",
       "    </tr>\n",
       "    <tr>\n",
       "      <th>1</th>\n",
       "      <td>upd  забрали</td>\n",
       "      <td>2021-07-28T13:58:50</td>\n",
       "      <td>upd  забрали</td>\n",
       "      <td>[upd, забрали]</td>\n",
       "    </tr>\n",
       "    <tr>\n",
       "      <th>2</th>\n",
       "      <td>какой корпус</td>\n",
       "      <td>2021-07-30T16:13:40</td>\n",
       "      <td>какой корпус</td>\n",
       "      <td>[какой, корпус]</td>\n",
       "    </tr>\n",
       "    <tr>\n",
       "      <th>3</th>\n",
       "      <td>молодые и красивые  буду рада отдать в добрые ...</td>\n",
       "      <td>2021-08-03T13:29:33</td>\n",
       "      <td>молодые и красивые  буду рада отдать в добрые ...</td>\n",
       "      <td>[молодые, и, красивые, буду, рада, отдать, в, ...</td>\n",
       "    </tr>\n",
       "    <tr>\n",
       "      <th>4</th>\n",
       "      <td>1к  уехала  оставила у двери страчателлу и ост...</td>\n",
       "      <td>2021-08-05T17:39:14</td>\n",
       "      <td>1к  уехала  оставила у двери страчателлу и ост...</td>\n",
       "      <td>[1к, уехала, оставила, у, двери, страчателлу, ...</td>\n",
       "    </tr>\n",
       "    <tr>\n",
       "      <th>...</th>\n",
       "      <td>...</td>\n",
       "      <td>...</td>\n",
       "      <td>...</td>\n",
       "      <td>...</td>\n",
       "    </tr>\n",
       "    <tr>\n",
       "      <th>18000</th>\n",
       "      <td>сито большое бронь</td>\n",
       "      <td>2025-09-20T09:02:20</td>\n",
       "      <td>сито большое бронь</td>\n",
       "      <td>[сито, большое, бронь]</td>\n",
       "    </tr>\n",
       "    <tr>\n",
       "      <th>18001</th>\n",
       "      <td>сито поменбше бронь</td>\n",
       "      <td>2025-09-20T09:05:58</td>\n",
       "      <td>сито поменбше бронь</td>\n",
       "      <td>[сито, поменбше, бронь]</td>\n",
       "    </tr>\n",
       "    <tr>\n",
       "      <th>18002</th>\n",
       "      <td>венчик бронь</td>\n",
       "      <td>2025-09-20T09:08:36</td>\n",
       "      <td>венчик бронь</td>\n",
       "      <td>[венчик, бронь]</td>\n",
       "    </tr>\n",
       "    <tr>\n",
       "      <th>18003</th>\n",
       "      <td>друзья мб кому нибудь нужны банки жалко выкиды...</td>\n",
       "      <td>2025-09-20T09:19:20</td>\n",
       "      <td>друзья мб кому нибудь нужны банки жалко выкиды...</td>\n",
       "      <td>[друзья, мб, кому, нибудь, нужны, банки, жалко...</td>\n",
       "    </tr>\n",
       "    <tr>\n",
       "      <th>18004</th>\n",
       "      <td>миска бронь</td>\n",
       "      <td>2025-09-20T10:51:56</td>\n",
       "      <td>миска бронь</td>\n",
       "      <td>[миска, бронь]</td>\n",
       "    </tr>\n",
       "  </tbody>\n",
       "</table>\n",
       "<p>17841 rows × 4 columns</p>\n",
       "</div>"
      ],
      "text/plain": [
       "                                             entity_text                 date  \\\n",
       "0                 никто половину арбуза забрать не хочет  2021-07-28T13:54:41   \n",
       "1                                           upd  забрали  2021-07-28T13:58:50   \n",
       "2                                           какой корпус  2021-07-30T16:13:40   \n",
       "3      молодые и красивые  буду рада отдать в добрые ...  2021-08-03T13:29:33   \n",
       "4      1к  уехала  оставила у двери страчателлу и ост...  2021-08-05T17:39:14   \n",
       "...                                                  ...                  ...   \n",
       "18000                                 сито большое бронь  2025-09-20T09:02:20   \n",
       "18001                                сито поменбше бронь  2025-09-20T09:05:58   \n",
       "18002                                       венчик бронь  2025-09-20T09:08:36   \n",
       "18003  друзья мб кому нибудь нужны банки жалко выкиды...  2025-09-20T09:19:20   \n",
       "18004                                        миска бронь  2025-09-20T10:51:56   \n",
       "\n",
       "                                                    text  \\\n",
       "0                 никто половину арбуза забрать не хочет   \n",
       "1                                           upd  забрали   \n",
       "2                                           какой корпус   \n",
       "3      молодые и красивые  буду рада отдать в добрые ...   \n",
       "4      1к  уехала  оставила у двери страчателлу и ост...   \n",
       "...                                                  ...   \n",
       "18000                                 сито большое бронь   \n",
       "18001                                сито поменбше бронь   \n",
       "18002                                       венчик бронь   \n",
       "18003  друзья мб кому нибудь нужны банки жалко выкиды...   \n",
       "18004                                        миска бронь   \n",
       "\n",
       "                                                keywords  \n",
       "0          [никто, половину, арбуза, забрать, не, хочет]  \n",
       "1                                         [upd, забрали]  \n",
       "2                                        [какой, корпус]  \n",
       "3      [молодые, и, красивые, буду, рада, отдать, в, ...  \n",
       "4      [1к, уехала, оставила, у, двери, страчателлу, ...  \n",
       "...                                                  ...  \n",
       "18000                             [сито, большое, бронь]  \n",
       "18001                            [сито, поменбше, бронь]  \n",
       "18002                                    [венчик, бронь]  \n",
       "18003  [друзья, мб, кому, нибудь, нужны, банки, жалко...  \n",
       "18004                                     [миска, бронь]  \n",
       "\n",
       "[17841 rows x 4 columns]"
      ]
     },
     "execution_count": 74,
     "metadata": {},
     "output_type": "execute_result"
    }
   ],
   "source": [
    "df"
   ]
  },
  {
   "cell_type": "code",
   "execution_count": 75,
   "id": "a0b59e01",
   "metadata": {},
   "outputs": [
    {
     "data": {
      "text/plain": [
       "(17841, 4)"
      ]
     },
     "execution_count": 75,
     "metadata": {},
     "output_type": "execute_result"
    }
   ],
   "source": [
    "df.shape"
   ]
  },
  {
   "cell_type": "code",
   "execution_count": 76,
   "id": "6a4a0ae8",
   "metadata": {},
   "outputs": [],
   "source": [
    "\n",
    "keywords_sell = set([\n",
    "    \"отдам\", \"отдаю\", \"предложу\", \"предлагаю\", \"поделюсь\", \"раздам\", \"раздаю\",\n",
    "    \"есть лишнее\", \"осталось\", \"досталось\", \"в наличии\", \"заберите\", \"угощу\",\n",
    "    \"оставила\", \"оставлю\", \"у двери\", \"возьмите\", \"кому надо\", \"кому нужно\",\n",
    "    \"кому\", \"все еще есть\", \"осталась\", \"отдал\", \"отдалась\", \"отдала\",\n",
    "    \"upd\", \"апдейт\", \"апд\", \"бесплатно\", \"даром\", \"за просто так\", \"безвозмездно\",\n",
    "    \"передам\", \"продам\", \"продаю\", \"бронь\", \"бронь за кем\", \"забронировано\",\n",
    "    \"поставила\", \"положила\", \"в контейнере\", \"в подъезде\", \"под дверью\"\n",
    "])\n",
    "\n",
    "keywords_buy = set([\n",
    "    \"заберу\", \"возьму\", \"взял бы\", \"беру\", \"готов взять\", \"есть ли\", \"ищу\",\n",
    "    \"можно\", \"можно мне\", \"кому не нужно\", \"пригодится\", \"нужен\", \"нужна\", \"нужно\",\n",
    "    \"хочу\", \"можно забрать\", \"подскажите\", \"осталось ли\", \"забрал бы\", \"ищется\",\n",
    "    \"было бы здорово\", \"приеду\", \"забегу\", \"никто не отдаёт\", \"не осталось ли\", \n",
    "    \"бронь\", \"бронирую\", \"забронирую\"\n",
    "])\n",
    "\n",
    "keywords_age = set([\"срок\", \"давно\", \"вчерашнее\", \"недавнее\", \"свежее\", \"просрочено\", \"просрочка\"])\n",
    "keywords_house = set([\"корпус\", \"к\", \"1к\", \"2к\", \"3к\", \"парадная\", \"подъезд\", \"этаж\", \"дверь\"])\n",
    "keywords_already_taken = set([\"уже\", \"забрали\", \"отбой\", \"нету\", \"съели\", \"забронировано\", \"забрали уже\"])\n",
    "\n",
    "\n",
    "\n",
    "def has_any(tokens, keyword_set):\n",
    "    return any(token in keyword_set for token in tokens)\n",
    "\n",
    "\n",
    "df[\"is_sell\"] = df[\"keywords\"].apply(lambda tokens: has_any(tokens, keywords_sell))\n",
    "df[\"is_buy\"] = df[\"keywords\"].apply(lambda tokens: has_any(tokens, keywords_buy))\n",
    "df[\"is_age_related\"] = df[\"keywords\"].apply(lambda tokens: has_any(tokens, keywords_age))\n",
    "df[\"is_house_related\"] = df[\"keywords\"].apply(lambda tokens: has_any(tokens, keywords_house))\n",
    "df[\"is_already_taken\"] = df[\"keywords\"].apply(lambda tokens: has_any(tokens, keywords_already_taken))\n",
    "\n",
    "posts_sell = df[df[\"is_sell\"]]\n",
    "posts_buy = df[df[\"is_buy\"]]\n",
    "posts_age = df[df[\"is_age_related\"]]\n",
    "posts_house = df[df[\"is_house_related\"]]\n",
    "posts_already_taken = df[df[\"is_already_taken\"]]"
   ]
  },
  {
   "cell_type": "code",
   "execution_count": 77,
   "id": "45bf71b3",
   "metadata": {},
   "outputs": [
    {
     "data": {
      "text/plain": [
       "(3113, 9)"
      ]
     },
     "execution_count": 77,
     "metadata": {},
     "output_type": "execute_result"
    }
   ],
   "source": [
    "posts_sell.shape\n"
   ]
  },
  {
   "cell_type": "code",
   "execution_count": 78,
   "id": "46e4d62e",
   "metadata": {},
   "outputs": [
    {
     "data": {
      "text/plain": [
       "(3449, 9)"
      ]
     },
     "execution_count": 78,
     "metadata": {},
     "output_type": "execute_result"
    }
   ],
   "source": [
    "posts_buy.shape"
   ]
  },
  {
   "cell_type": "code",
   "execution_count": 79,
   "id": "745e8bfd",
   "metadata": {},
   "outputs": [
    {
     "data": {
      "text/plain": [
       "(224, 9)"
      ]
     },
     "execution_count": 79,
     "metadata": {},
     "output_type": "execute_result"
    }
   ],
   "source": [
    "posts_age.shape"
   ]
  },
  {
   "cell_type": "code",
   "execution_count": 80,
   "id": "4779d4bb",
   "metadata": {},
   "outputs": [
    {
     "data": {
      "text/plain": [
       "(1163, 9)"
      ]
     },
     "execution_count": 80,
     "metadata": {},
     "output_type": "execute_result"
    }
   ],
   "source": [
    "posts_already_taken.shape"
   ]
  },
  {
   "cell_type": "code",
   "execution_count": 81,
   "id": "0d1dd738",
   "metadata": {},
   "outputs": [
    {
     "data": {
      "text/plain": [
       "(3460, 9)"
      ]
     },
     "execution_count": 81,
     "metadata": {},
     "output_type": "execute_result"
    }
   ],
   "source": [
    "posts_house.shape"
   ]
  },
  {
   "cell_type": "markdown",
   "id": "1a81be6a",
   "metadata": {},
   "source": [
    "# Результат"
   ]
  },
  {
   "cell_type": "markdown",
   "id": "034ecc6b",
   "metadata": {},
   "source": [
    "- изначально сообщений: 26000\n",
    "- мусор: 7000\n",
    "- текстовые: 19000\n",
    "- удаленные (в больше степени спам и не релевантное): 1200\n",
    "- не удаленные: 17800\n",
    "- продажа: 3113\n",
    "- покупка: 3449\n",
    "- упоминался срок годности: 224\n",
    "- уже забрали: 1163\n",
    "- уточнение корпуса: 3460\n",
    "- забыл написать корпус: 147"
   ]
  }
 ],
 "metadata": {
  "kernelspec": {
   "display_name": "venv (3.12.3)",
   "language": "python",
   "name": "python3"
  },
  "language_info": {
   "codemirror_mode": {
    "name": "ipython",
    "version": 3
   },
   "file_extension": ".py",
   "mimetype": "text/x-python",
   "name": "python",
   "nbconvert_exporter": "python",
   "pygments_lexer": "ipython3",
   "version": "3.12.3"
  }
 },
 "nbformat": 4,
 "nbformat_minor": 5
}
